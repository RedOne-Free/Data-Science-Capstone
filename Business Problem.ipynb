{
 "cells": [
  {
   "cell_type": "markdown",
   "metadata": {
    "collapsed": true
   },
   "source": [
    "# The Battle of Neighborhoods | Business Problem"
   ]
  },
  {
   "cell_type": "markdown",
   "metadata": {},
   "source": [
    "## Introduction:\n",
    "\n",
    "The goal of this project is to help people explore the best places in their neighborhood. This will help them to make smart and efficient decisions about choosing a good neighborhood among other neighborhoods in North York, Toranto.\n",
    "\n",
    "Many people migrate to various states in Canada and need a lot of research to get good housing prices and reputable schools for their children. This project is for people looking for better neighborhoods. To facilitate access to cafe, school, super market, medical stores, grocery stores, mall, theater, hospital, like-minded people, etc.\n",
    "\n",
    "This project aims to create an analysis of the characteristics for a people migrating to North York to find a better neighborhood as a comparative analysis between neighborhoods. Features include the median housing price and better school according to ratings, crime rates of that particular area, road connectivity, weather conditions, good management for emergency, water resources both freash and waste water and excrement conveyed in sewers and recreational facilities.\n",
    "\n",
    "It will help people become aware of the area and neighborhood before moving to a new city, state, country or place for work or to start a new life.\n",
    "\n",
    "\n",
    "## Problem to solve:\n",
    "\n",
    "The main goal of this project is to suggest a better neighborhood in a new city for the person who moves there. Social presence in society in terms of like-minded people. Connectivity to airport, bus stop, city center, markets and other daily needs nearby.\n",
    "\n",
    "1. Sorted list of house in terms of housing prices in a ascending or descending order\n",
    "2. Sorted list of schools in terms of location, fees, rating and reviews\n",
    "\n",
    "\n",
    "## Location:\n",
    "\n",
    "North York is one of the six administrative districts of Toronto, Ontario, Canada. it was one of the fastest-growing parts of the region due to its proximity to Old Toronto. It was declared a borough in 1967, and later became a city in 1979, attracting high-density residences, rapid transit, and a number of corporate headquarters in North York City Centre, its central business district. In 1998, North York was amalgamated with the rest of Metropolitan Toronto to form the new city of Toronto and has since been a secondary economic hub of the city outside Downtown Toronto. \n",
    "\n",
    "\n",
    "## Foursquare API:\n",
    "\n",
    "This project would use Four-square API as its prime data gathering source as it has a database of millions of places, especially their places API which provides the ability to perform location search, location sharing and details about a business.\n",
    "\n",
    "\n",
    "## Work Flow:\n",
    "\n",
    "Using credentials of Foursquare API features of near-by places of the neighborhoods would be mined. Due to http request limitations the number of places per neighborhood parameter would reasonably be set to 100 and the radius parameter would be set to 500.\n",
    "\n",
    "\n",
    "## Clustering Approach:\n",
    "\n",
    "To compare the similarities of two cities, we decided to explore neighborhoods, segment them, and group them into clusters to find similar neighborhoods in a big city like New York and Toronto. To be able to do that, we need to cluster data which is a form of unsupervised machine learning: k-means clustering algorithm\n",
    "\n",
    "\n",
    "## Libraries Which are Used to Develope the Project:\n",
    "\n",
    "Pandas: For creating and manipulating dataframes.\n",
    "\n",
    "Folium: Python visualization library would be used to visualize the neighborhoods cluster distribution of using interactive leaflet map.\n",
    "\n",
    "Scikit Learn: For importing k-means clustering.\n",
    "\n",
    "JSON: Library to handle JSON files.\n",
    "\n",
    "XML: To separate data from presentation and XML stores data in plain text format.\n",
    "\n",
    "Geocoder: To retrieve Location Data.\n",
    "\n",
    "Beautiful Soup and Requests: To scrap and library to handle http requests.\n",
    "\n",
    "Matplotlib: Python Plotting Module."
   ]
  }
 ],
 "metadata": {
  "kernelspec": {
   "display_name": "Python 3",
   "language": "python",
   "name": "python3"
  },
  "language_info": {
   "codemirror_mode": {
    "name": "ipython",
    "version": 3
   },
   "file_extension": ".py",
   "mimetype": "text/x-python",
   "name": "python",
   "nbconvert_exporter": "python",
   "pygments_lexer": "ipython3",
   "version": "3.7.6"
  }
 },
 "nbformat": 4,
 "nbformat_minor": 1
}
